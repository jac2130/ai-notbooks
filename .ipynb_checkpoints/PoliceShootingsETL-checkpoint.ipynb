{
 "cells": [],
 "metadata": {
  "environment": {
   "name": "common-cpu.m48",
   "type": "gcloud",
   "uri": "gcr.io/deeplearning-platform-release/base-cpu:m48"
  }
 },
 "nbformat": 4,
 "nbformat_minor": 4
}
